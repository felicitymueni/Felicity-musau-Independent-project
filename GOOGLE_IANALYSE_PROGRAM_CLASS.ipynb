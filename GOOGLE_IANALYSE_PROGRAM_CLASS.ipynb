{
  "nbformat": 4,
  "nbformat_minor": 0,
  "metadata": {
    "colab": {
      "provenance": [],
      "authorship_tag": "ABX9TyOd0IW1IW+by2CpmjrebO3B",
      "include_colab_link": true
    },
    "kernelspec": {
      "name": "python3",
      "display_name": "Python 3"
    },
    "language_info": {
      "name": "python"
    }
  },
  "cells": [
    {
      "cell_type": "markdown",
      "metadata": {
        "id": "view-in-github",
        "colab_type": "text"
      },
      "source": [
        "<a href=\"https://colab.research.google.com/github/felicitymueni/Felicity-musau-Independent-project/blob/main/GOOGLE_IANALYSE_PROGRAM_CLASS.ipynb\" target=\"_parent\"><img src=\"https://colab.research.google.com/assets/colab-badge.svg\" alt=\"Open In Colab\"/></a>"
      ]
    },
    {
      "cell_type": "code",
      "execution_count": 2,
      "metadata": {
        "id": "9RXWQtkf9znO"
      },
      "outputs": [],
      "source": [
        "import numpy as np"
      ]
    },
    {
      "cell_type": "markdown",
      "source": [
        "Declaring variables we use the assignment operator(=)"
      ],
      "metadata": {
        "id": "tdA8qu0p-iwS"
      }
    },
    {
      "cell_type": "code",
      "source": [
        "x=1\n",
        "print(type(x))"
      ],
      "metadata": {
        "colab": {
          "base_uri": "https://localhost:8080/"
        },
        "id": "K7f6DErC99Qn",
        "outputId": "1ff25521-7a4d-4438-d997-1b11d8631b94"
      },
      "execution_count": 1,
      "outputs": [
        {
          "output_type": "stream",
          "name": "stdout",
          "text": [
            "<class 'int'>\n"
          ]
        }
      ]
    },
    {
      "cell_type": "code",
      "source": [
        "x=True\n",
        "print(type(x))"
      ],
      "metadata": {
        "colab": {
          "base_uri": "https://localhost:8080/"
        },
        "id": "zOh8cHgP-H7C",
        "outputId": "3bad3559-8b17-4ef1-dba8-f6122f49b1c8"
      },
      "execution_count": 5,
      "outputs": [
        {
          "output_type": "stream",
          "name": "stdout",
          "text": [
            "<class 'bool'>\n"
          ]
        }
      ]
    },
    {
      "cell_type": "markdown",
      "source": [
        "Working with strings and booleans"
      ],
      "metadata": {
        "id": "3kYe0Ydb-zjg"
      }
    },
    {
      "cell_type": "code",
      "source": [
        "x='This is a string'\n",
        "print(x)"
      ],
      "metadata": {
        "colab": {
          "base_uri": "https://localhost:8080/"
        },
        "id": "zO-xcZoF-gGg",
        "outputId": "0f122f70-01f2-4af5-f908-951eca1636d3"
      },
      "execution_count": 8,
      "outputs": [
        {
          "output_type": "stream",
          "name": "stdout",
          "text": [
            "This is a string\n"
          ]
        }
      ]
    },
    {
      "cell_type": "code",
      "source": [
        "x='Hello'+ ''+ 'World!'\n",
        "print(x)"
      ],
      "metadata": {
        "colab": {
          "base_uri": "https://localhost:8080/"
        },
        "id": "09S7DwWD_LKL",
        "outputId": "27feb905-2526-420f-cc99-2f5d22f6a88e"
      },
      "execution_count": 10,
      "outputs": [
        {
          "output_type": "stream",
          "name": "stdout",
          "text": [
            "HelloWorld!\n"
          ]
        }
      ]
    },
    {
      "cell_type": "code",
      "source": [
        "x=\"Hello World\"\n",
        "print(x)"
      ],
      "metadata": {
        "colab": {
          "base_uri": "https://localhost:8080/"
        },
        "id": "vgh1Bx1D_rGz",
        "outputId": "ac531126-bd8f-474c-897a-bb3b74d9839a"
      },
      "execution_count": 11,
      "outputs": [
        {
          "output_type": "stream",
          "name": "stdout",
          "text": [
            "Hello World\n"
          ]
        }
      ]
    },
    {
      "cell_type": "markdown",
      "source": [
        "Condition Loops,functions in python #if statement"
      ],
      "metadata": {
        "id": "QiCB54kxAcME"
      }
    },
    {
      "cell_type": "code",
      "source": [
        "grade = 12\n",
        "if grade >= 10:\n",
        "   print('Pass')\n",
        "else:\n",
        "    print('Fail')\n"
      ],
      "metadata": {
        "colab": {
          "base_uri": "https://localhost:8080/"
        },
        "id": "38gw2we7AIoJ",
        "outputId": "affc9de5-6592-4d61-b3de-2b90e3b4188a"
      },
      "execution_count": 12,
      "outputs": [
        {
          "output_type": "stream",
          "name": "stdout",
          "text": [
            "Pass\n"
          ]
        }
      ]
    },
    {
      "cell_type": "code",
      "source": [
        "Fruits=[\"Cherry\",\"Apple\",\"Banana\"]\n",
        "for x in Fruits:\n",
        "  print(x)"
      ],
      "metadata": {
        "colab": {
          "base_uri": "https://localhost:8080/"
        },
        "id": "7h804rlWBj9b",
        "outputId": "9d8f5b35-76e3-457a-9ee2-94ab76bec05b"
      },
      "execution_count": 13,
      "outputs": [
        {
          "output_type": "stream",
          "name": "stdout",
          "text": [
            "Cherry\n",
            "Apple\n",
            "Banana\n"
          ]
        }
      ]
    },
    {
      "cell_type": "code",
      "source": [
        "Fruits=[\"Cherry\",\"Apple\",\"Banana\"]\n",
        "for x in Fruits:\n",
        "  print(x)\n",
        "  print(type(x))"
      ],
      "metadata": {
        "colab": {
          "base_uri": "https://localhost:8080/"
        },
        "id": "FjtluuDpC6Zv",
        "outputId": "cb8d8875-265c-4836-e8b9-a6fbf0036fd0"
      },
      "execution_count": 14,
      "outputs": [
        {
          "output_type": "stream",
          "name": "stdout",
          "text": [
            "Cherry\n",
            "<class 'str'>\n",
            "Apple\n",
            "<class 'str'>\n",
            "Banana\n",
            "<class 'str'>\n"
          ]
        }
      ]
    },
    {
      "cell_type": "markdown",
      "source": [
        "#Function gives a block of code that performs task"
      ],
      "metadata": {
        "id": "4UcjM9CsGI4J"
      }
    },
    {
      "cell_type": "code",
      "source": [
        "def subtraction(number_1,number_2):\n",
        "  if number_1 > number_2:\n",
        "    result=number_1 - number_2\n",
        "  else:\n",
        "    result=number_2 - number_1\n",
        "  return result\n",
        "subtraction(10,12)\n",
        "\n"
      ],
      "metadata": {
        "colab": {
          "base_uri": "https://localhost:8080/"
        },
        "id": "MSvUtuh8DETD",
        "outputId": "b3de3e35-eec5-4526-daaf-45ad77298b5a"
      },
      "execution_count": 15,
      "outputs": [
        {
          "output_type": "execute_result",
          "data": {
            "text/plain": [
              "2"
            ]
          },
          "metadata": {},
          "execution_count": 15
        }
      ]
    },
    {
      "cell_type": "markdown",
      "source": [
        "Numpy in python using arrays and list.\n",
        "Importing numpy and creating arrays in list\n",
        "\n"
      ],
      "metadata": {
        "id": "mHgR7BRBG72_"
      }
    },
    {
      "cell_type": "code",
      "source": [
        "import numpy as np\n",
        "np.array([])"
      ],
      "metadata": {
        "colab": {
          "base_uri": "https://localhost:8080/"
        },
        "id": "8rvX0AX0Guxg",
        "outputId": "d1c8aff7-1abd-473b-e24d-e220c7ce9801"
      },
      "execution_count": 16,
      "outputs": [
        {
          "output_type": "execute_result",
          "data": {
            "text/plain": [
              "array([], dtype=float64)"
            ]
          },
          "metadata": {},
          "execution_count": 16
        }
      ]
    },
    {
      "cell_type": "code",
      "source": [
        "a=np.array([1,2,3,4],float)\n",
        "a"
      ],
      "metadata": {
        "colab": {
          "base_uri": "https://localhost:8080/"
        },
        "id": "zcph9y0bIHhz",
        "outputId": "43109e89-fe40-473c-de4f-ee63abec6199"
      },
      "execution_count": 17,
      "outputs": [
        {
          "output_type": "execute_result",
          "data": {
            "text/plain": [
              "array([1., 2., 3., 4.])"
            ]
          },
          "metadata": {},
          "execution_count": 17
        }
      ]
    },
    {
      "cell_type": "code",
      "source": [
        "type(a)"
      ],
      "metadata": {
        "colab": {
          "base_uri": "https://localhost:8080/"
        },
        "id": "MTV-06Z7IXVY",
        "outputId": "3999b709-4253-437f-b28f-cc0fe5b5e10f"
      },
      "execution_count": 18,
      "outputs": [
        {
          "output_type": "execute_result",
          "data": {
            "text/plain": [
              "numpy.ndarray"
            ]
          },
          "metadata": {},
          "execution_count": 18
        }
      ]
    },
    {
      "cell_type": "markdown",
      "source": [
        "Multidimensional array"
      ],
      "metadata": {
        "id": "lCwyOZ4SIjiH"
      }
    },
    {
      "cell_type": "code",
      "source": [
        "a=np.array([[1,2,3,4],[5,6,7,8]],float)\n",
        "a"
      ],
      "metadata": {
        "colab": {
          "base_uri": "https://localhost:8080/"
        },
        "id": "17SOk_n2ImBF",
        "outputId": "5ceaf84a-7921-433a-c326-e6fd96fec594"
      },
      "execution_count": 19,
      "outputs": [
        {
          "output_type": "execute_result",
          "data": {
            "text/plain": [
              "array([[1., 2., 3., 4.],\n",
              "       [5., 6., 7., 8.]])"
            ]
          },
          "metadata": {},
          "execution_count": 19
        }
      ]
    },
    {
      "cell_type": "code",
      "source": [
        "a[0,0]"
      ],
      "metadata": {
        "colab": {
          "base_uri": "https://localhost:8080/"
        },
        "id": "D7C8zCpqJDH5",
        "outputId": "0d40dad0-6c88-4d29-84fa-46d9bc8ad8d9"
      },
      "execution_count": 20,
      "outputs": [
        {
          "output_type": "execute_result",
          "data": {
            "text/plain": [
              "1.0"
            ]
          },
          "metadata": {},
          "execution_count": 20
        }
      ]
    },
    {
      "cell_type": "code",
      "source": [
        "a[0,1]"
      ],
      "metadata": {
        "colab": {
          "base_uri": "https://localhost:8080/"
        },
        "id": "QQDM4AQ8JHPi",
        "outputId": "1374a7cc-64d4-4674-ef0d-1935aae7cf31"
      },
      "execution_count": 21,
      "outputs": [
        {
          "output_type": "execute_result",
          "data": {
            "text/plain": [
              "2.0"
            ]
          },
          "metadata": {},
          "execution_count": 21
        }
      ]
    },
    {
      "cell_type": "code",
      "source": [
        "a[:2]"
      ],
      "metadata": {
        "colab": {
          "base_uri": "https://localhost:8080/"
        },
        "id": "CBlr2rFcJcm3",
        "outputId": "07bea4da-67bc-4ac4-c439-58894a28ebd3"
      },
      "execution_count": 22,
      "outputs": [
        {
          "output_type": "execute_result",
          "data": {
            "text/plain": [
              "array([[1., 2., 3., 4.],\n",
              "       [5., 6., 7., 8.]])"
            ]
          },
          "metadata": {},
          "execution_count": 22
        }
      ]
    },
    {
      "cell_type": "markdown",
      "source": [
        "Manipulation of array elements,slicing and accessing"
      ],
      "metadata": {
        "id": "n8j40Xti0tCn"
      }
    },
    {
      "cell_type": "code",
      "source": [
        "f=[2,3,4,5]"
      ],
      "metadata": {
        "id": "YWanezYByzWY"
      },
      "execution_count": 27,
      "outputs": []
    },
    {
      "cell_type": "code",
      "source": [
        "f[3]"
      ],
      "metadata": {
        "colab": {
          "base_uri": "https://localhost:8080/"
        },
        "id": "2WqHHCQ6s5On",
        "outputId": "3424800a-7ae3-4fbb-f826-c76c1e0bb7d2"
      },
      "execution_count": 28,
      "outputs": [
        {
          "output_type": "execute_result",
          "data": {
            "text/plain": [
              "5"
            ]
          },
          "metadata": {},
          "execution_count": 28
        }
      ]
    },
    {
      "cell_type": "code",
      "source": [
        "f[0]=5\n",
        "f"
      ],
      "metadata": {
        "colab": {
          "base_uri": "https://localhost:8080/"
        },
        "id": "0rqp7GKz0ILd",
        "outputId": "ab93ba69-3a3d-4bad-b365-23ebbae03146"
      },
      "execution_count": 29,
      "outputs": [
        {
          "output_type": "execute_result",
          "data": {
            "text/plain": [
              "[5, 3, 4, 5]"
            ]
          },
          "metadata": {},
          "execution_count": 29
        }
      ]
    },
    {
      "cell_type": "markdown",
      "source": [
        "Plotting in Python using Matplotlib"
      ],
      "metadata": {
        "id": "51HUxw5XKemE"
      }
    },
    {
      "cell_type": "code",
      "source": [
        "import matplotlib.pyplot as plt\n",
        "plt.plot([1,2,3,4])\n",
        "plt.ylabel('some numbers')\n",
        "plt.xlabel('float numbers')\n",
        "plt.title('I analyse program study')\n",
        "plt.show()"
      ],
      "metadata": {
        "colab": {
          "base_uri": "https://localhost:8080/",
          "height": 472
        },
        "id": "d0bwbPvMKW-Q",
        "outputId": "97d9afb0-56f6-4028-ab46-0cf045578c9e"
      },
      "execution_count": 42,
      "outputs": [
        {
          "output_type": "display_data",
          "data": {
            "text/plain": [
              "<Figure size 640x480 with 1 Axes>"
            ],
            "image/png": "[encoded data removed]"
          },
          "metadata": {}
        }
      ]
    },
    {
      "cell_type": "markdown",
      "source": [
        "Set Font Properties for Title and Labels\n",
        "You can use the fontdict parameter in xlabel(), ylabel(), and title() to set font properties for the title and labels."
      ],
      "metadata": {
        "id": "hnOl3Ig04hRK"
      }
    },
    {
      "cell_type": "code",
      "source": [
        "import matplotlib.pyplot as plt\n",
        "\n",
        "x = np.array([80, 85, 90, 95, 100, 105, 110, 115, 120, 125])\n",
        "y = np.array([240, 250, 260, 270, 280, 290, 300, 310, 320, 330])\n",
        "\n",
        "plt.plot(x, y)\n",
        "font1 = {'family':'serif','color':'blue','size':20}\n",
        "font2 = {'family':'serif','color':'darkred','size':15}\n",
        "\n",
        "plt.title(\"Sports Watch Data\",loc = 'left', fontdict = font1)\n",
        "plt.xlabel(\"Average Pulse\", fontdict = font2)\n",
        "plt.ylabel(\"Calorie Burnage\", fontdict = font2)\n",
        "\n",
        "\n",
        "plt.xlabel(\"Average Pulse\")\n",
        "plt.ylabel(\"Calorie Burnage\")\n",
        "\n",
        "plt.show()"
      ],
      "metadata": {
        "colab": {
          "base_uri": "https://localhost:8080/",
          "height": 484
        },
        "id": "Gh0D3W3i4MBs",
        "outputId": "9474dd7b-63c8-4cdc-d155-d328ce0c3e04"
      },
      "execution_count": 45,
      "outputs": [
        {
          "output_type": "display_data",
          "data": {
            "text/plain": [
              "<Figure size 640x480 with 1 Axes>"
            ],
            "image/png": "[encoded data removed]"
          },
          "metadata": {}
        }
      ]
    },
    {
      "cell_type": "markdown",
      "source": [
        "Checking matplotlib version"
      ],
      "metadata": {
        "id": "B2v2Ru9w6O2z"
      }
    },
    {
      "cell_type": "code",
      "source": [
        "import matplotlib\n",
        "\n",
        "print(matplotlib.__version__)"
      ],
      "metadata": {
        "colab": {
          "base_uri": "https://localhost:8080/"
        },
        "id": "zWQha4ku6SMO",
        "outputId": "b306b552-976f-4316-9e5a-c0b9b37e2332"
      },
      "execution_count": 46,
      "outputs": [
        {
          "output_type": "stream",
          "name": "stdout",
          "text": [
            "3.7.1\n"
          ]
        }
      ]
    },
    {
      "cell_type": "markdown",
      "source": [
        "Draw a line in a diagram from position (0,0) to position (6,250):"
      ],
      "metadata": {
        "id": "QEnmp0TQ7RQQ"
      }
    },
    {
      "cell_type": "code",
      "source": [
        "import matplotlib.pyplot as plt\n",
        "import numpy as np\n",
        "\n",
        "xpoints = np.array([0, 6])\n",
        "ypoints = np.array([0, 250])\n",
        "\n",
        "plt.plot(xpoints, ypoints)\n",
        "plt.xlabel(\"Temperature\")\n",
        "plt.ylabel(\"Rainfall\")\n",
        "plt.title(\"TEMP VS RAINFALL\")\n",
        "plt.show()"
      ],
      "metadata": {
        "colab": {
          "base_uri": "https://localhost:8080/",
          "height": 472
        },
        "id": "5ApEfg2P7SI_",
        "outputId": "c0a5e649-00dd-4caf-f266-a7aede78c41b"
      },
      "execution_count": 50,
      "outputs": [
        {
          "output_type": "display_data",
          "data": {
            "text/plain": [
              "<Figure size 640x480 with 1 Axes>"
            ],
            "image/png": "[encoded data removed]"
          },
          "metadata": {}
        }
      ]
    },
    {
      "cell_type": "markdown",
      "source": [
        "Plotting x and y points"
      ],
      "metadata": {
        "id": "LBtaZXkE8E1_"
      }
    },
    {
      "cell_type": "markdown",
      "source": [
        "Draw a line in a diagram from position (1, 3) to position (8, 10):"
      ],
      "metadata": {
        "id": "fGrzpMB18KoB"
      }
    },
    {
      "cell_type": "code",
      "source": [
        "import matplotlib.pyplot as plt\n",
        "import numpy as np\n",
        "xpoints=np.array([1,8])\n",
        "ypoints=np.array([3,10])\n",
        "plt.plot(xpoints,ypoints ,'8')\n",
        "plt.show()"
      ],
      "metadata": {
        "colab": {
          "base_uri": "https://localhost:8080/",
          "height": 430
        },
        "id": "He7HJrUW74dV",
        "outputId": "3c90d322-e519-4d16-a58d-39291f6c1394"
      },
      "execution_count": 54,
      "outputs": [
        {
          "output_type": "display_data",
          "data": {
            "text/plain": [
              "<Figure size 640x480 with 1 Axes>"
            ],
            "image/png": "[encoded data removed]"
          },
          "metadata": {}
        }
      ]
    },
    {
      "cell_type": "markdown",
      "source": [
        "## **PANDAS\n",
        "PANDAS -used to analyze, clean explore, and manipulate data**"
      ],
      "metadata": {
        "id": "E2EfRGDM93R6"
      }
    },
    {
      "cell_type": "code",
      "source": [],
      "metadata": {
        "id": "zXkB_DEf95-E"
      },
      "execution_count": null,
      "outputs": []
    }
  ]
}